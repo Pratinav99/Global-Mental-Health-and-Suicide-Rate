{
  "cells": [
    {
      "cell_type": "markdown",
      "id": "497c5f76",
      "metadata": {
        "id": "497c5f76"
      },
      "source": [
        "# DAB 322: CAPSTONE PROJECT#1"
      ]
    },
    {
      "cell_type": "code",
      "source": [
        "from google.colab import drive\n",
        "drive.mount('/content/drive')"
      ],
      "metadata": {
        "colab": {
          "base_uri": "https://localhost:8080/"
        },
        "id": "OkORZ_lhuPvh",
        "outputId": "986dd5e1-c85b-49f5-d44f-fd222674c3b8"
      },
      "id": "OkORZ_lhuPvh",
      "execution_count": 1,
      "outputs": [
        {
          "output_type": "stream",
          "name": "stdout",
          "text": [
            "Mounted at /content/drive\n"
          ]
        }
      ]
    },
    {
      "cell_type": "markdown",
      "id": "7dc1fa5a",
      "metadata": {
        "id": "7dc1fa5a"
      },
      "source": [
        "## From raw data to insights: Analyzing Global Suicide Rates and Mental Health Trends, Patterns and Implications"
      ]
    },
    {
      "cell_type": "markdown",
      "id": "9e90fdda",
      "metadata": {
        "id": "9e90fdda"
      },
      "source": [
        "### Group# 6\n",
        "\n",
        "- Pratinav Jinwal\n",
        "- Karan Tejraj Kotian\n",
        "- Shubham Kharbanda\n",
        "- Divyajot Singh Mankan\n",
        "- Iqbaldeep Singh Bhullar"
      ]
    },
    {
      "cell_type": "markdown",
      "id": "4a7705ef",
      "metadata": {
        "id": "4a7705ef"
      },
      "source": [
        "### **Overview of the Secondary Dataset collected from WHO and IHME**"
      ]
    },
    {
      "cell_type": "code",
      "execution_count": 3,
      "id": "68f3140e-1d43-4214-b5e8-6c3ce6be2dd3",
      "metadata": {
        "id": "68f3140e-1d43-4214-b5e8-6c3ce6be2dd3"
      },
      "outputs": [],
      "source": [
        "# Importing the required libraries\n",
        "\n",
        "import pandas as pd\n",
        "import numpy as np\n",
        "import matplotlib.pyplot as plt\n",
        "import seaborn as sns"
      ]
    },
    {
      "cell_type": "code",
      "execution_count": 4,
      "id": "1283af7a-2fc2-4116-b162-791214eee8cc",
      "metadata": {
        "colab": {
          "base_uri": "https://localhost:8080/"
        },
        "id": "1283af7a-2fc2-4116-b162-791214eee8cc",
        "outputId": "448a5bb7-1b9a-4770-d277-6b9a441c42a9"
      },
      "outputs": [
        {
          "output_type": "stream",
          "name": "stdout",
          "text": [
            "<class 'pandas.core.frame.DataFrame'>\n",
            "RangeIndex: 78373 entries, 0 to 78372\n",
            "Data columns (total 7 columns):\n",
            " #   Column                                       Non-Null Count  Dtype  \n",
            "---  ------                                       --------------  -----  \n",
            " 0   Entity                                       78373 non-null  object \n",
            " 1   Code                                         73589 non-null  object \n",
            " 2   Year                                         78373 non-null  int64  \n",
            " 3   Age-standardized suicide rate - Sex: male    3880 non-null   float64\n",
            " 4   Age-standardized suicide rate - Sex: female  3880 non-null   float64\n",
            " 5   Population                                   78165 non-null  float64\n",
            " 6   Continent                                    285 non-null    object \n",
            "dtypes: float64(3), int64(1), object(3)\n",
            "memory usage: 4.2+ MB\n"
          ]
        }
      ],
      "source": [
        "# Importing and reading the first few rows of the dataset\n",
        "\n",
        "df=pd.read_csv(r\"/content/drive/MyDrive/capstone/02. male-vs-female-suicide-rate-who, 2019.csv\")\n",
        "df.info()"
      ]
    },
    {
      "cell_type": "code",
      "execution_count": null,
      "id": "a1e8a5dc-69af-4652-b85b-118468b218a4",
      "metadata": {
        "id": "a1e8a5dc-69af-4652-b85b-118468b218a4",
        "outputId": "7b79a6e4-6c7b-458c-c0ca-def11c4aaadd"
      },
      "outputs": [
        {
          "data": {
            "text/html": [
              "<div>\n",
              "<style scoped>\n",
              "    .dataframe tbody tr th:only-of-type {\n",
              "        vertical-align: middle;\n",
              "    }\n",
              "\n",
              "    .dataframe tbody tr th {\n",
              "        vertical-align: top;\n",
              "    }\n",
              "\n",
              "    .dataframe thead th {\n",
              "        text-align: right;\n",
              "    }\n",
              "</style>\n",
              "<table border=\"1\" class=\"dataframe\">\n",
              "  <thead>\n",
              "    <tr style=\"text-align: right;\">\n",
              "      <th></th>\n",
              "      <th>Entity</th>\n",
              "      <th>Code</th>\n",
              "      <th>Year</th>\n",
              "      <th>Age-standardized suicide rate - Sex: male</th>\n",
              "      <th>Age-standardized suicide rate - Sex: female</th>\n",
              "      <th>Population</th>\n",
              "      <th>Continent</th>\n",
              "    </tr>\n",
              "  </thead>\n",
              "  <tbody>\n",
              "    <tr>\n",
              "      <th>0</th>\n",
              "      <td>Abkhazia</td>\n",
              "      <td>OWID_ABK</td>\n",
              "      <td>2015</td>\n",
              "      <td>NaN</td>\n",
              "      <td>NaN</td>\n",
              "      <td>NaN</td>\n",
              "      <td>Asia</td>\n",
              "    </tr>\n",
              "    <tr>\n",
              "      <th>1</th>\n",
              "      <td>Afghanistan</td>\n",
              "      <td>AFG</td>\n",
              "      <td>2000</td>\n",
              "      <td>7.62</td>\n",
              "      <td>7.77</td>\n",
              "      <td>19542986.0</td>\n",
              "      <td>NaN</td>\n",
              "    </tr>\n",
              "    <tr>\n",
              "      <th>2</th>\n",
              "      <td>Afghanistan</td>\n",
              "      <td>AFG</td>\n",
              "      <td>2001</td>\n",
              "      <td>7.85</td>\n",
              "      <td>7.89</td>\n",
              "      <td>19688634.0</td>\n",
              "      <td>NaN</td>\n",
              "    </tr>\n",
              "    <tr>\n",
              "      <th>3</th>\n",
              "      <td>Afghanistan</td>\n",
              "      <td>AFG</td>\n",
              "      <td>2002</td>\n",
              "      <td>7.95</td>\n",
              "      <td>7.69</td>\n",
              "      <td>21000258.0</td>\n",
              "      <td>NaN</td>\n",
              "    </tr>\n",
              "    <tr>\n",
              "      <th>4</th>\n",
              "      <td>Afghanistan</td>\n",
              "      <td>AFG</td>\n",
              "      <td>2003</td>\n",
              "      <td>7.78</td>\n",
              "      <td>7.60</td>\n",
              "      <td>22645136.0</td>\n",
              "      <td>NaN</td>\n",
              "    </tr>\n",
              "  </tbody>\n",
              "</table>\n",
              "</div>"
            ],
            "text/plain": [
              "        Entity      Code  Year  Age-standardized suicide rate - Sex: male  \\\n",
              "0     Abkhazia  OWID_ABK  2015                                        NaN   \n",
              "1  Afghanistan       AFG  2000                                       7.62   \n",
              "2  Afghanistan       AFG  2001                                       7.85   \n",
              "3  Afghanistan       AFG  2002                                       7.95   \n",
              "4  Afghanistan       AFG  2003                                       7.78   \n",
              "\n",
              "   Age-standardized suicide rate - Sex: female  Population Continent  \n",
              "0                                          NaN         NaN      Asia  \n",
              "1                                         7.77  19542986.0       NaN  \n",
              "2                                         7.89  19688634.0       NaN  \n",
              "3                                         7.69  21000258.0       NaN  \n",
              "4                                         7.60  22645136.0       NaN  "
            ]
          },
          "execution_count": 58,
          "metadata": {},
          "output_type": "execute_result"
        }
      ],
      "source": [
        "df.head(5)"
      ]
    },
    {
      "cell_type": "code",
      "execution_count": null,
      "id": "66bc9df5-588d-4fe5-b123-1ab10f1691ce",
      "metadata": {
        "id": "66bc9df5-588d-4fe5-b123-1ab10f1691ce"
      },
      "outputs": [],
      "source": [
        "# Removing the leading and trailing spaces from the column names\n",
        "\n",
        "df.columns = df.columns.str.strip()"
      ]
    },
    {
      "cell_type": "code",
      "execution_count": null,
      "id": "9e599259-d5d5-48f6-8b3f-fb68fb79e452",
      "metadata": {
        "id": "9e599259-d5d5-48f6-8b3f-fb68fb79e452",
        "outputId": "a07b85c2-c131-4966-b3c3-7594503c22ff"
      },
      "outputs": [
        {
          "data": {
            "text/plain": [
              "(78373, 7)"
            ]
          },
          "execution_count": 60,
          "metadata": {},
          "output_type": "execute_result"
        }
      ],
      "source": [
        "df.shape"
      ]
    },
    {
      "cell_type": "code",
      "execution_count": null,
      "id": "265b0cf6-db37-4dd9-9f4f-1b3ec3669f1e",
      "metadata": {
        "id": "265b0cf6-db37-4dd9-9f4f-1b3ec3669f1e",
        "outputId": "bbd676ab-f232-49ab-b7be-7785c7d20e70"
      },
      "outputs": [
        {
          "data": {
            "text/plain": [
              "Entity                                             0\n",
              "Code                                            4784\n",
              "Year                                               0\n",
              "Age-standardized suicide rate - Sex: male      74493\n",
              "Age-standardized suicide rate - Sex: female    74493\n",
              "Population                                       208\n",
              "Continent                                      78088\n",
              "dtype: int64"
            ]
          },
          "execution_count": 61,
          "metadata": {},
          "output_type": "execute_result"
        }
      ],
      "source": [
        "df.isnull().sum()"
      ]
    },
    {
      "cell_type": "markdown",
      "id": "8227b92f",
      "metadata": {
        "id": "8227b92f"
      },
      "source": [
        "### Data Cleansing"
      ]
    },
    {
      "cell_type": "code",
      "execution_count": null,
      "id": "163feec0-549f-4335-9ea5-4ad7698da89b",
      "metadata": {
        "id": "163feec0-549f-4335-9ea5-4ad7698da89b",
        "outputId": "0ee85adc-e2b4-4357-e7f8-88db52445fb6"
      },
      "outputs": [
        {
          "name": "stdout",
          "output_type": "stream",
          "text": [
            "Entity                                            0\n",
            "Code                                            200\n",
            "Year                                              0\n",
            "Age-standardized suicide rate - Sex: male         0\n",
            "Age-standardized suicide rate - Sex: female       0\n",
            "Population                                      160\n",
            "Continent                                      3697\n",
            "dtype: int64\n"
          ]
        }
      ],
      "source": [
        "# Removing the Null values from column 'Age-standardized suicide rate - Sex: male'\n",
        "\n",
        "df_cleaned = df.dropna(subset=['Age-standardized suicide rate - Sex: male'])\n",
        "print(df_cleaned.isnull().sum())"
      ]
    },
    {
      "cell_type": "code",
      "execution_count": null,
      "id": "62b39936-81ac-45e1-82d9-445db2782434",
      "metadata": {
        "id": "62b39936-81ac-45e1-82d9-445db2782434",
        "outputId": "458b8c2d-6d43-4ada-8205-5d854557b267"
      },
      "outputs": [
        {
          "name": "stdout",
          "output_type": "stream",
          "text": [
            "[2000 2001 2002 2003 2004 2005 2006 2007 2008 2009 2010 2011 2012 2013\n",
            " 2014 2015 2016 2017 2018 2019]\n"
          ]
        }
      ],
      "source": [
        "# Reset the index\n",
        "df_cleaned.reset_index(drop=True, inplace=True)\n",
        "\n",
        "#checking the year column\n",
        "print(df_cleaned['Year'].unique())"
      ]
    },
    {
      "cell_type": "code",
      "execution_count": null,
      "id": "2ebb0b35-04c2-40a1-9290-6db89b7413e5",
      "metadata": {
        "id": "2ebb0b35-04c2-40a1-9290-6db89b7413e5",
        "outputId": "9a8eae29-85e0-4c62-b2cb-823eafb4e698"
      },
      "outputs": [
        {
          "data": {
            "text/html": [
              "<div>\n",
              "<style scoped>\n",
              "    .dataframe tbody tr th:only-of-type {\n",
              "        vertical-align: middle;\n",
              "    }\n",
              "\n",
              "    .dataframe tbody tr th {\n",
              "        vertical-align: top;\n",
              "    }\n",
              "\n",
              "    .dataframe thead th {\n",
              "        text-align: right;\n",
              "    }\n",
              "</style>\n",
              "<table border=\"1\" class=\"dataframe\">\n",
              "  <thead>\n",
              "    <tr style=\"text-align: right;\">\n",
              "      <th></th>\n",
              "      <th>Country</th>\n",
              "      <th>Year</th>\n",
              "      <th>Age-standardized suicide rate - Sex: male</th>\n",
              "      <th>Age-standardized suicide rate - Sex: female</th>\n",
              "      <th>Population</th>\n",
              "      <th>Continent</th>\n",
              "    </tr>\n",
              "  </thead>\n",
              "  <tbody>\n",
              "    <tr>\n",
              "      <th>0</th>\n",
              "      <td>Afghanistan</td>\n",
              "      <td>2000</td>\n",
              "      <td>7.6200</td>\n",
              "      <td>7.7700</td>\n",
              "      <td>19542986.0</td>\n",
              "      <td>NaN</td>\n",
              "    </tr>\n",
              "    <tr>\n",
              "      <th>1</th>\n",
              "      <td>Afghanistan</td>\n",
              "      <td>2001</td>\n",
              "      <td>7.8500</td>\n",
              "      <td>7.8900</td>\n",
              "      <td>19688634.0</td>\n",
              "      <td>NaN</td>\n",
              "    </tr>\n",
              "    <tr>\n",
              "      <th>2</th>\n",
              "      <td>Afghanistan</td>\n",
              "      <td>2002</td>\n",
              "      <td>7.9500</td>\n",
              "      <td>7.6900</td>\n",
              "      <td>21000258.0</td>\n",
              "      <td>NaN</td>\n",
              "    </tr>\n",
              "    <tr>\n",
              "      <th>3</th>\n",
              "      <td>Afghanistan</td>\n",
              "      <td>2003</td>\n",
              "      <td>7.7800</td>\n",
              "      <td>7.6000</td>\n",
              "      <td>22645136.0</td>\n",
              "      <td>NaN</td>\n",
              "    </tr>\n",
              "    <tr>\n",
              "      <th>4</th>\n",
              "      <td>Afghanistan</td>\n",
              "      <td>2004</td>\n",
              "      <td>7.8600</td>\n",
              "      <td>7.6200</td>\n",
              "      <td>23553554.0</td>\n",
              "      <td>NaN</td>\n",
              "    </tr>\n",
              "    <tr>\n",
              "      <th>...</th>\n",
              "      <td>...</td>\n",
              "      <td>...</td>\n",
              "      <td>...</td>\n",
              "      <td>...</td>\n",
              "      <td>...</td>\n",
              "      <td>...</td>\n",
              "    </tr>\n",
              "    <tr>\n",
              "      <th>3875</th>\n",
              "      <td>Zimbabwe</td>\n",
              "      <td>2015</td>\n",
              "      <td>47.3654</td>\n",
              "      <td>19.1859</td>\n",
              "      <td>14154937.0</td>\n",
              "      <td>Africa</td>\n",
              "    </tr>\n",
              "    <tr>\n",
              "      <th>3876</th>\n",
              "      <td>Zimbabwe</td>\n",
              "      <td>2016</td>\n",
              "      <td>44.4823</td>\n",
              "      <td>17.7111</td>\n",
              "      <td>14452705.0</td>\n",
              "      <td>NaN</td>\n",
              "    </tr>\n",
              "    <tr>\n",
              "      <th>3877</th>\n",
              "      <td>Zimbabwe</td>\n",
              "      <td>2017</td>\n",
              "      <td>41.3055</td>\n",
              "      <td>15.0037</td>\n",
              "      <td>14751101.0</td>\n",
              "      <td>NaN</td>\n",
              "    </tr>\n",
              "    <tr>\n",
              "      <th>3878</th>\n",
              "      <td>Zimbabwe</td>\n",
              "      <td>2018</td>\n",
              "      <td>38.5506</td>\n",
              "      <td>13.4846</td>\n",
              "      <td>15052191.0</td>\n",
              "      <td>NaN</td>\n",
              "    </tr>\n",
              "    <tr>\n",
              "      <th>3879</th>\n",
              "      <td>Zimbabwe</td>\n",
              "      <td>2019</td>\n",
              "      <td>37.8141</td>\n",
              "      <td>13.4604</td>\n",
              "      <td>15354606.0</td>\n",
              "      <td>NaN</td>\n",
              "    </tr>\n",
              "  </tbody>\n",
              "</table>\n",
              "<p>3860 rows × 6 columns</p>\n",
              "</div>"
            ],
            "text/plain": [
              "          Country  Year  Age-standardized suicide rate - Sex: male  \\\n",
              "0     Afghanistan  2000                                     7.6200   \n",
              "1     Afghanistan  2001                                     7.8500   \n",
              "2     Afghanistan  2002                                     7.9500   \n",
              "3     Afghanistan  2003                                     7.7800   \n",
              "4     Afghanistan  2004                                     7.8600   \n",
              "...           ...   ...                                        ...   \n",
              "3875     Zimbabwe  2015                                    47.3654   \n",
              "3876     Zimbabwe  2016                                    44.4823   \n",
              "3877     Zimbabwe  2017                                    41.3055   \n",
              "3878     Zimbabwe  2018                                    38.5506   \n",
              "3879     Zimbabwe  2019                                    37.8141   \n",
              "\n",
              "      Age-standardized suicide rate - Sex: female  Population Continent  \n",
              "0                                          7.7700  19542986.0       NaN  \n",
              "1                                          7.8900  19688634.0       NaN  \n",
              "2                                          7.6900  21000258.0       NaN  \n",
              "3                                          7.6000  22645136.0       NaN  \n",
              "4                                          7.6200  23553554.0       NaN  \n",
              "...                                           ...         ...       ...  \n",
              "3875                                      19.1859  14154937.0    Africa  \n",
              "3876                                      17.7111  14452705.0       NaN  \n",
              "3877                                      15.0037  14751101.0       NaN  \n",
              "3878                                      13.4846  15052191.0       NaN  \n",
              "3879                                      13.4604  15354606.0       NaN  \n",
              "\n",
              "[3860 rows x 6 columns]"
            ]
          },
          "execution_count": 64,
          "metadata": {},
          "output_type": "execute_result"
        }
      ],
      "source": [
        "# Creating a copy of the DataFrame\n",
        "df_cleaned = df_cleaned.copy()\n",
        "\n",
        "# Renaming 'Entity' to 'Country'\n",
        "df_cleaned.rename(columns={'Entity': 'Country'}, inplace=True)\n",
        "\n",
        "# Removing 'World' from 'Country' column\n",
        "df_cleaned_v2 = df_cleaned[df_cleaned['Country'] != 'World']\n",
        "\n",
        "# Removing column code as country code.\n",
        "df_cleaned_v2= df_cleaned_v2.drop('Code', axis=1)\n",
        "\n",
        "\n",
        "df_cleaned_v2"
      ]
    },
    {
      "cell_type": "code",
      "execution_count": null,
      "id": "ef453e83-765b-4311-b6d8-66c64bf1e963",
      "metadata": {
        "id": "ef453e83-765b-4311-b6d8-66c64bf1e963",
        "outputId": "2eab78ab-d585-49ea-e96d-7b39272887bf"
      },
      "outputs": [
        {
          "name": "stdout",
          "output_type": "stream",
          "text": [
            "           Country    Population\n",
            "36           China  1.421864e+09\n",
            "80           India  1.383112e+09\n",
            "182  United States  3.343197e+08\n",
            "81       Indonesia  2.695829e+08\n",
            "132       Pakistan  2.232933e+08\n"
          ]
        }
      ],
      "source": [
        "# Creating a DataFrame for the year 2019\n",
        "df_2019 = df_cleaned_v2[df_cleaned_v2['Year'] == 2019]\n",
        "\n",
        "# Group by country and sort by descending population\n",
        "grouped_df = df_2019.groupby('Country', as_index=False).agg({'Population': 'max'}).sort_values(by='Population', ascending=False)\n",
        "\n",
        "# Filter out the outliers\n",
        "grouped_df = grouped_df[~grouped_df['Country'].isin(['Africa', 'Europe','Americas','High-income','Eastern Mediterranean','Lower-middle-income','Low-income','South-East Asia','Upper-middle-income','Western Pacific'])]\n",
        "\n",
        "# Print the resulting DataFrame\n",
        "print(grouped_df.head(5))"
      ]
    },
    {
      "cell_type": "code",
      "execution_count": null,
      "id": "ca3a74c6-d4e0-4655-b5a1-a5f3664869b9",
      "metadata": {
        "id": "ca3a74c6-d4e0-4655-b5a1-a5f3664869b9"
      },
      "outputs": [],
      "source": [
        "# Select top 5 countries from the dataframe\n",
        "top_5_countries = grouped_df.head(5)['Country'].tolist()"
      ]
    },
    {
      "cell_type": "code",
      "execution_count": null,
      "id": "78584cd4-d5d9-467b-82af-db6b3f47b216",
      "metadata": {
        "id": "78584cd4-d5d9-467b-82af-db6b3f47b216",
        "outputId": "7917faf8-7de3-42c8-9b0b-7ce043c1de2e"
      },
      "outputs": [
        {
          "data": {
            "text/html": [
              "<div>\n",
              "<style scoped>\n",
              "    .dataframe tbody tr th:only-of-type {\n",
              "        vertical-align: middle;\n",
              "    }\n",
              "\n",
              "    .dataframe tbody tr th {\n",
              "        vertical-align: top;\n",
              "    }\n",
              "\n",
              "    .dataframe thead th {\n",
              "        text-align: right;\n",
              "    }\n",
              "</style>\n",
              "<table border=\"1\" class=\"dataframe\">\n",
              "  <thead>\n",
              "    <tr style=\"text-align: right;\">\n",
              "      <th></th>\n",
              "      <th>Country</th>\n",
              "      <th>Year</th>\n",
              "      <th>Age-standardized suicide rate - Sex: male</th>\n",
              "      <th>Age-standardized suicide rate - Sex: female</th>\n",
              "      <th>Population</th>\n",
              "      <th>Continent</th>\n",
              "    </tr>\n",
              "  </thead>\n",
              "  <tbody>\n",
              "    <tr>\n",
              "      <th>0</th>\n",
              "      <td>China</td>\n",
              "      <td>2000</td>\n",
              "      <td>15.4776</td>\n",
              "      <td>14.4667</td>\n",
              "      <td>1.264099e+09</td>\n",
              "      <td>NaN</td>\n",
              "    </tr>\n",
              "    <tr>\n",
              "      <th>1</th>\n",
              "      <td>China</td>\n",
              "      <td>2001</td>\n",
              "      <td>14.3295</td>\n",
              "      <td>12.5570</td>\n",
              "      <td>1.272740e+09</td>\n",
              "      <td>NaN</td>\n",
              "    </tr>\n",
              "    <tr>\n",
              "      <th>2</th>\n",
              "      <td>China</td>\n",
              "      <td>2002</td>\n",
              "      <td>13.9849</td>\n",
              "      <td>11.2317</td>\n",
              "      <td>1.280926e+09</td>\n",
              "      <td>NaN</td>\n",
              "    </tr>\n",
              "    <tr>\n",
              "      <th>3</th>\n",
              "      <td>China</td>\n",
              "      <td>2003</td>\n",
              "      <td>14.6189</td>\n",
              "      <td>11.5318</td>\n",
              "      <td>1.288873e+09</td>\n",
              "      <td>NaN</td>\n",
              "    </tr>\n",
              "    <tr>\n",
              "      <th>4</th>\n",
              "      <td>China</td>\n",
              "      <td>2004</td>\n",
              "      <td>15.0306</td>\n",
              "      <td>11.9077</td>\n",
              "      <td>1.296817e+09</td>\n",
              "      <td>NaN</td>\n",
              "    </tr>\n",
              "    <tr>\n",
              "      <th>...</th>\n",
              "      <td>...</td>\n",
              "      <td>...</td>\n",
              "      <td>...</td>\n",
              "      <td>...</td>\n",
              "      <td>...</td>\n",
              "      <td>...</td>\n",
              "    </tr>\n",
              "    <tr>\n",
              "      <th>95</th>\n",
              "      <td>United States</td>\n",
              "      <td>2015</td>\n",
              "      <td>19.8629</td>\n",
              "      <td>6.0500</td>\n",
              "      <td>3.246078e+08</td>\n",
              "      <td>North America</td>\n",
              "    </tr>\n",
              "    <tr>\n",
              "      <th>96</th>\n",
              "      <td>United States</td>\n",
              "      <td>2016</td>\n",
              "      <td>21.1977</td>\n",
              "      <td>6.2700</td>\n",
              "      <td>3.272102e+08</td>\n",
              "      <td>NaN</td>\n",
              "    </tr>\n",
              "    <tr>\n",
              "      <th>97</th>\n",
              "      <td>United States</td>\n",
              "      <td>2017</td>\n",
              "      <td>22.5157</td>\n",
              "      <td>6.4600</td>\n",
              "      <td>3.297912e+08</td>\n",
              "      <td>NaN</td>\n",
              "    </tr>\n",
              "    <tr>\n",
              "      <th>98</th>\n",
              "      <td>United States</td>\n",
              "      <td>2018</td>\n",
              "      <td>21.7898</td>\n",
              "      <td>6.5500</td>\n",
              "      <td>3.321400e+08</td>\n",
              "      <td>NaN</td>\n",
              "    </tr>\n",
              "    <tr>\n",
              "      <th>99</th>\n",
              "      <td>United States</td>\n",
              "      <td>2019</td>\n",
              "      <td>22.3985</td>\n",
              "      <td>6.7700</td>\n",
              "      <td>3.343197e+08</td>\n",
              "      <td>NaN</td>\n",
              "    </tr>\n",
              "  </tbody>\n",
              "</table>\n",
              "<p>100 rows × 6 columns</p>\n",
              "</div>"
            ],
            "text/plain": [
              "          Country  Year  Age-standardized suicide rate - Sex: male  \\\n",
              "0           China  2000                                    15.4776   \n",
              "1           China  2001                                    14.3295   \n",
              "2           China  2002                                    13.9849   \n",
              "3           China  2003                                    14.6189   \n",
              "4           China  2004                                    15.0306   \n",
              "..            ...   ...                                        ...   \n",
              "95  United States  2015                                    19.8629   \n",
              "96  United States  2016                                    21.1977   \n",
              "97  United States  2017                                    22.5157   \n",
              "98  United States  2018                                    21.7898   \n",
              "99  United States  2019                                    22.3985   \n",
              "\n",
              "    Age-standardized suicide rate - Sex: female    Population      Continent  \n",
              "0                                       14.4667  1.264099e+09            NaN  \n",
              "1                                       12.5570  1.272740e+09            NaN  \n",
              "2                                       11.2317  1.280926e+09            NaN  \n",
              "3                                       11.5318  1.288873e+09            NaN  \n",
              "4                                       11.9077  1.296817e+09            NaN  \n",
              "..                                          ...           ...            ...  \n",
              "95                                       6.0500  3.246078e+08  North America  \n",
              "96                                       6.2700  3.272102e+08            NaN  \n",
              "97                                       6.4600  3.297912e+08            NaN  \n",
              "98                                       6.5500  3.321400e+08            NaN  \n",
              "99                                       6.7700  3.343197e+08            NaN  \n",
              "\n",
              "[100 rows x 6 columns]"
            ]
          },
          "execution_count": 67,
          "metadata": {},
          "output_type": "execute_result"
        }
      ],
      "source": [
        "# Assuming top_5_countries is a list of country names\n",
        "top_5_countries_df = pd.DataFrame({'Country': top_5_countries})\n",
        "\n",
        "# Merge df_cleaned_v2 and top_5_countries_df\n",
        "result_df = pd.merge(df_cleaned_v2, top_5_countries_df, on='Country', how='inner')\n",
        "result_df\n",
        "\n",
        "# Print the resulting DataFrame\n",
        "#print(result_df.shape)"
      ]
    },
    {
      "cell_type": "code",
      "execution_count": null,
      "id": "c1d396d0-3d4a-42cc-b03a-13c5b74a9853",
      "metadata": {
        "id": "c1d396d0-3d4a-42cc-b03a-13c5b74a9853",
        "outputId": "17f93b75-69bf-4aef-d3d7-f328a9fbefc8"
      },
      "outputs": [
        {
          "data": {
            "image/png": "[encoded data removed]",
            "text/plain": [
              "<Figure size 1200x600 with 1 Axes>"
            ]
          },
          "metadata": {},
          "output_type": "display_data"
        }
      ],
      "source": [
        "# Create a barplot using seaborn\n",
        "plt.figure(figsize=(12, 6))\n",
        "ax = sns.barplot(x='Country', y='Average Suicide Rate', hue='Sex', data=final_df)\n",
        "plt.title('Average Suicide Rates by Country and Gender')\n",
        "plt.xticks(rotation=45, ha='right')\n",
        "\n",
        "# Update legend labels\n",
        "handles, labels = ax.get_legend_handles_labels()\n",
        "ax.legend(handles, ['Male', 'Female'], title='Sex')\n",
        "\n",
        "plt.show()"
      ]
    },
    {
      "cell_type": "code",
      "execution_count": null,
      "id": "73b3fd08",
      "metadata": {
        "id": "73b3fd08",
        "outputId": "7267dc97-777b-4e43-85bc-5ca91d5446ff"
      },
      "outputs": [
        {
          "data": {
            "text/html": [
              "<div>\n",
              "<style scoped>\n",
              "    .dataframe tbody tr th:only-of-type {\n",
              "        vertical-align: middle;\n",
              "    }\n",
              "\n",
              "    .dataframe tbody tr th {\n",
              "        vertical-align: top;\n",
              "    }\n",
              "\n",
              "    .dataframe thead th {\n",
              "        text-align: right;\n",
              "    }\n",
              "</style>\n",
              "<table border=\"1\" class=\"dataframe\">\n",
              "  <thead>\n",
              "    <tr style=\"text-align: right;\">\n",
              "      <th></th>\n",
              "      <th>Country</th>\n",
              "      <th>Year</th>\n",
              "      <th>Age-standardized suicide rate - Sex: male</th>\n",
              "      <th>Age-standardized suicide rate - Sex: female</th>\n",
              "      <th>Population</th>\n",
              "      <th>Continent</th>\n",
              "    </tr>\n",
              "  </thead>\n",
              "  <tbody>\n",
              "    <tr>\n",
              "      <th>0</th>\n",
              "      <td>Afghanistan</td>\n",
              "      <td>2000</td>\n",
              "      <td>7.6200</td>\n",
              "      <td>7.7700</td>\n",
              "      <td>19542986.0</td>\n",
              "      <td>NaN</td>\n",
              "    </tr>\n",
              "    <tr>\n",
              "      <th>1</th>\n",
              "      <td>Afghanistan</td>\n",
              "      <td>2001</td>\n",
              "      <td>7.8500</td>\n",
              "      <td>7.8900</td>\n",
              "      <td>19688634.0</td>\n",
              "      <td>NaN</td>\n",
              "    </tr>\n",
              "    <tr>\n",
              "      <th>2</th>\n",
              "      <td>Afghanistan</td>\n",
              "      <td>2002</td>\n",
              "      <td>7.9500</td>\n",
              "      <td>7.6900</td>\n",
              "      <td>21000258.0</td>\n",
              "      <td>NaN</td>\n",
              "    </tr>\n",
              "    <tr>\n",
              "      <th>3</th>\n",
              "      <td>Afghanistan</td>\n",
              "      <td>2003</td>\n",
              "      <td>7.7800</td>\n",
              "      <td>7.6000</td>\n",
              "      <td>22645136.0</td>\n",
              "      <td>NaN</td>\n",
              "    </tr>\n",
              "    <tr>\n",
              "      <th>4</th>\n",
              "      <td>Afghanistan</td>\n",
              "      <td>2004</td>\n",
              "      <td>7.8600</td>\n",
              "      <td>7.6200</td>\n",
              "      <td>23553554.0</td>\n",
              "      <td>NaN</td>\n",
              "    </tr>\n",
              "    <tr>\n",
              "      <th>...</th>\n",
              "      <td>...</td>\n",
              "      <td>...</td>\n",
              "      <td>...</td>\n",
              "      <td>...</td>\n",
              "      <td>...</td>\n",
              "      <td>...</td>\n",
              "    </tr>\n",
              "    <tr>\n",
              "      <th>3875</th>\n",
              "      <td>Zimbabwe</td>\n",
              "      <td>2015</td>\n",
              "      <td>47.3654</td>\n",
              "      <td>19.1859</td>\n",
              "      <td>14154937.0</td>\n",
              "      <td>Africa</td>\n",
              "    </tr>\n",
              "    <tr>\n",
              "      <th>3876</th>\n",
              "      <td>Zimbabwe</td>\n",
              "      <td>2016</td>\n",
              "      <td>44.4823</td>\n",
              "      <td>17.7111</td>\n",
              "      <td>14452705.0</td>\n",
              "      <td>NaN</td>\n",
              "    </tr>\n",
              "    <tr>\n",
              "      <th>3877</th>\n",
              "      <td>Zimbabwe</td>\n",
              "      <td>2017</td>\n",
              "      <td>41.3055</td>\n",
              "      <td>15.0037</td>\n",
              "      <td>14751101.0</td>\n",
              "      <td>NaN</td>\n",
              "    </tr>\n",
              "    <tr>\n",
              "      <th>3878</th>\n",
              "      <td>Zimbabwe</td>\n",
              "      <td>2018</td>\n",
              "      <td>38.5506</td>\n",
              "      <td>13.4846</td>\n",
              "      <td>15052191.0</td>\n",
              "      <td>NaN</td>\n",
              "    </tr>\n",
              "    <tr>\n",
              "      <th>3879</th>\n",
              "      <td>Zimbabwe</td>\n",
              "      <td>2019</td>\n",
              "      <td>37.8141</td>\n",
              "      <td>13.4604</td>\n",
              "      <td>15354606.0</td>\n",
              "      <td>NaN</td>\n",
              "    </tr>\n",
              "  </tbody>\n",
              "</table>\n",
              "<p>3860 rows × 6 columns</p>\n",
              "</div>"
            ],
            "text/plain": [
              "          Country  Year  Age-standardized suicide rate - Sex: male  \\\n",
              "0     Afghanistan  2000                                     7.6200   \n",
              "1     Afghanistan  2001                                     7.8500   \n",
              "2     Afghanistan  2002                                     7.9500   \n",
              "3     Afghanistan  2003                                     7.7800   \n",
              "4     Afghanistan  2004                                     7.8600   \n",
              "...           ...   ...                                        ...   \n",
              "3875     Zimbabwe  2015                                    47.3654   \n",
              "3876     Zimbabwe  2016                                    44.4823   \n",
              "3877     Zimbabwe  2017                                    41.3055   \n",
              "3878     Zimbabwe  2018                                    38.5506   \n",
              "3879     Zimbabwe  2019                                    37.8141   \n",
              "\n",
              "      Age-standardized suicide rate - Sex: female  Population Continent  \n",
              "0                                          7.7700  19542986.0       NaN  \n",
              "1                                          7.8900  19688634.0       NaN  \n",
              "2                                          7.6900  21000258.0       NaN  \n",
              "3                                          7.6000  22645136.0       NaN  \n",
              "4                                          7.6200  23553554.0       NaN  \n",
              "...                                           ...         ...       ...  \n",
              "3875                                      19.1859  14154937.0    Africa  \n",
              "3876                                      17.7111  14452705.0       NaN  \n",
              "3877                                      15.0037  14751101.0       NaN  \n",
              "3878                                      13.4846  15052191.0       NaN  \n",
              "3879                                      13.4604  15354606.0       NaN  \n",
              "\n",
              "[3860 rows x 6 columns]"
            ]
          },
          "execution_count": 69,
          "metadata": {},
          "output_type": "execute_result"
        }
      ],
      "source": [
        "df_cleaned_v2"
      ]
    },
    {
      "cell_type": "code",
      "execution_count": null,
      "id": "33a2c36f",
      "metadata": {
        "id": "33a2c36f",
        "outputId": "8accd8f6-ab2c-4ca1-ae4c-bde58da3c1b1"
      },
      "outputs": [
        {
          "name": "stdout",
          "output_type": "stream",
          "text": [
            "          Country  Year  Age-standardized suicide rate - Sex: male  \\\n",
            "0     Afghanistan  2000                                     7.6200   \n",
            "1     Afghanistan  2001                                     7.8500   \n",
            "2     Afghanistan  2002                                     7.9500   \n",
            "3     Afghanistan  2003                                     7.7800   \n",
            "4     Afghanistan  2004                                     7.8600   \n",
            "...           ...   ...                                        ...   \n",
            "3855     Zimbabwe  2015                                    47.3654   \n",
            "3856     Zimbabwe  2016                                    44.4823   \n",
            "3857     Zimbabwe  2017                                    41.3055   \n",
            "3858     Zimbabwe  2018                                    38.5506   \n",
            "3859     Zimbabwe  2019                                    37.8141   \n",
            "\n",
            "      Age-standardized suicide rate - Sex: female  Population Continent_y  \n",
            "0                                          7.7700  19542986.0        Asia  \n",
            "1                                          7.8900  19688634.0        Asia  \n",
            "2                                          7.6900  21000258.0        Asia  \n",
            "3                                          7.6000  22645136.0        Asia  \n",
            "4                                          7.6200  23553554.0        Asia  \n",
            "...                                           ...         ...         ...  \n",
            "3855                                      19.1859  14154937.0      Africa  \n",
            "3856                                      17.7111  14452705.0      Africa  \n",
            "3857                                      15.0037  14751101.0      Africa  \n",
            "3858                                      13.4846  15052191.0      Africa  \n",
            "3859                                      13.4604  15354606.0      Africa  \n",
            "\n",
            "[3860 rows x 6 columns]\n"
          ]
        }
      ],
      "source": [
        "# Reading the Excel file containing country and continent\n",
        "excel_file_path = r\"C:\\Users\\shubh\\OneDrive\\Desktop\\Data Analytics for Business\\03_Sem\\Capstone Project 1\\00 Capstone dataset\\FMT_Data\\Countries_and_Continents.xlsx\"\n",
        "countries_continents_df = pd.read_excel(excel_file_path)\n",
        "\n",
        "# Joining the dataframes based on the 'Country' column\n",
        "merged_df = pd.merge(df_cleaned_v2, countries_continents_df, how='left', left_on='Country', right_on='Countries')\n",
        "\n",
        "# Drop the duplicate 'Country' and 'Countries' column resulting from the merge operation\n",
        "merged_df.drop(columns=['Countries'], inplace=True)\n",
        "merged_df.drop(columns=['Continent_x'], inplace=True)\n",
        "\n",
        "# Display the resulting merged dataframe\n",
        "print(merged_df)\n",
        "\n"
      ]
    },
    {
      "cell_type": "code",
      "execution_count": null,
      "id": "4b4fcad6",
      "metadata": {
        "id": "4b4fcad6",
        "outputId": "64654416-259a-4a83-dcbd-3e6c7d899d2a"
      },
      "outputs": [
        {
          "name": "stdout",
          "output_type": "stream",
          "text": [
            "<class 'pandas.core.frame.DataFrame'>\n",
            "Int64Index: 3860 entries, 0 to 3859\n",
            "Data columns (total 6 columns):\n",
            " #   Column                                       Non-Null Count  Dtype         \n",
            "---  ------                                       --------------  -----         \n",
            " 0   Country                                      3860 non-null   object        \n",
            " 1   Year                                         3860 non-null   datetime64[ns]\n",
            " 2   Age-standardized suicide rate - Sex: male    3860 non-null   float64       \n",
            " 3   Age-standardized suicide rate - Sex: female  3860 non-null   float64       \n",
            " 4   Population                                   3700 non-null   float64       \n",
            " 5   Continent_y                                  3660 non-null   object        \n",
            "dtypes: datetime64[ns](1), float64(3), object(2)\n",
            "memory usage: 211.1+ KB\n"
          ]
        }
      ],
      "source": [
        "merged_df.info()\n"
      ]
    },
    {
      "cell_type": "code",
      "execution_count": null,
      "id": "74b04fc6",
      "metadata": {
        "id": "74b04fc6"
      },
      "outputs": [],
      "source": [
        "# Checking if 'Continent_y' exists in columns, else using 'Continent'\n",
        "continent_column = 'Continent_y' if 'Continent_y' in df_cleaned_v2.columns else 'Continent'\n",
        "\n",
        "# Grouping by 'Year' and 'Continent', calculating the mean of suicide rates for males and females\n",
        "grouped_data_avg = df_cleaned_v2.groupby(['Year', continent_column]).agg({\n",
        "    'Age-standardized suicide rate - Sex: male': 'mean',\n",
        "    'Age-standardized suicide rate - Sex: female': 'mean'\n",
        "}).reset_index()\n",
        "\n",
        "\n"
      ]
    },
    {
      "cell_type": "code",
      "execution_count": null,
      "id": "323826fb",
      "metadata": {
        "id": "323826fb",
        "outputId": "685c3ce6-dbcd-43e5-cdc4-00b894ece986"
      },
      "outputs": [
        {
          "data": {
            "text/html": [
              "<div>\n",
              "<style scoped>\n",
              "    .dataframe tbody tr th:only-of-type {\n",
              "        vertical-align: middle;\n",
              "    }\n",
              "\n",
              "    .dataframe tbody tr th {\n",
              "        vertical-align: top;\n",
              "    }\n",
              "\n",
              "    .dataframe thead th {\n",
              "        text-align: right;\n",
              "    }\n",
              "</style>\n",
              "<table border=\"1\" class=\"dataframe\">\n",
              "  <thead>\n",
              "    <tr style=\"text-align: right;\">\n",
              "      <th></th>\n",
              "      <th>Year</th>\n",
              "      <th>Continent</th>\n",
              "      <th>Age-standardized suicide rate - Sex: male</th>\n",
              "      <th>Age-standardized suicide rate - Sex: female</th>\n",
              "    </tr>\n",
              "  </thead>\n",
              "  <tbody>\n",
              "    <tr>\n",
              "      <th>0</th>\n",
              "      <td>2015</td>\n",
              "      <td>Africa</td>\n",
              "      <td>24.266202</td>\n",
              "      <td>6.947354</td>\n",
              "    </tr>\n",
              "    <tr>\n",
              "      <th>1</th>\n",
              "      <td>2015</td>\n",
              "      <td>Asia</td>\n",
              "      <td>10.630217</td>\n",
              "      <td>3.589850</td>\n",
              "    </tr>\n",
              "    <tr>\n",
              "      <th>2</th>\n",
              "      <td>2015</td>\n",
              "      <td>Europe</td>\n",
              "      <td>18.702958</td>\n",
              "      <td>4.886250</td>\n",
              "    </tr>\n",
              "    <tr>\n",
              "      <th>3</th>\n",
              "      <td>2015</td>\n",
              "      <td>North America</td>\n",
              "      <td>9.592695</td>\n",
              "      <td>2.522333</td>\n",
              "    </tr>\n",
              "    <tr>\n",
              "      <th>4</th>\n",
              "      <td>2015</td>\n",
              "      <td>Oceania</td>\n",
              "      <td>24.782880</td>\n",
              "      <td>6.589130</td>\n",
              "    </tr>\n",
              "    <tr>\n",
              "      <th>5</th>\n",
              "      <td>2015</td>\n",
              "      <td>South America</td>\n",
              "      <td>18.024200</td>\n",
              "      <td>5.015983</td>\n",
              "    </tr>\n",
              "  </tbody>\n",
              "</table>\n",
              "</div>"
            ],
            "text/plain": [
              "   Year      Continent  Age-standardized suicide rate - Sex: male  \\\n",
              "0  2015         Africa                                  24.266202   \n",
              "1  2015           Asia                                  10.630217   \n",
              "2  2015         Europe                                  18.702958   \n",
              "3  2015  North America                                   9.592695   \n",
              "4  2015        Oceania                                  24.782880   \n",
              "5  2015  South America                                  18.024200   \n",
              "\n",
              "   Age-standardized suicide rate - Sex: female  \n",
              "0                                     6.947354  \n",
              "1                                     3.589850  \n",
              "2                                     4.886250  \n",
              "3                                     2.522333  \n",
              "4                                     6.589130  \n",
              "5                                     5.015983  "
            ]
          },
          "execution_count": 84,
          "metadata": {},
          "output_type": "execute_result"
        }
      ],
      "source": [
        "grouped_data_avg"
      ]
    }
  ],
  "metadata": {
    "kernelspec": {
      "display_name": "Python 3 (ipykernel)",
      "language": "python",
      "name": "python3"
    },
    "language_info": {
      "codemirror_mode": {
        "name": "ipython",
        "version": 3
      },
      "file_extension": ".py",
      "mimetype": "text/x-python",
      "name": "python",
      "nbconvert_exporter": "python",
      "pygments_lexer": "ipython3",
      "version": "3.9.13"
    },
    "colab": {
      "provenance": []
    }
  },
  "nbformat": 4,
  "nbformat_minor": 5
}