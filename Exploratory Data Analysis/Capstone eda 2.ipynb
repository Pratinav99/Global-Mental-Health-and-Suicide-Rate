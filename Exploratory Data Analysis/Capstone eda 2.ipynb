{
 "cells": [
  {
   "cell_type": "code",
   "execution_count": 166,
   "id": "68f3140e-1d43-4214-b5e8-6c3ce6be2dd3",
   "metadata": {},
   "outputs": [],
   "source": [
    "import pandas as pd \n",
    "import numpy as np \n",
    "import matplotlib.pyplot as plt\n",
    "import seaborn as sns"
   ]
  },
  {
   "cell_type": "code",
   "execution_count": 169,
   "id": "1283af7a-2fc2-4116-b162-791214eee8cc",
   "metadata": {},
   "outputs": [
    {
     "name": "stdout",
     "output_type": "stream",
     "text": [
      "<class 'pandas.core.frame.DataFrame'>\n",
      "RangeIndex: 78373 entries, 0 to 78372\n",
      "Data columns (total 7 columns):\n",
      " #   Column                                       Non-Null Count  Dtype  \n",
      "---  ------                                       --------------  -----  \n",
      " 0   Entity                                       78373 non-null  object \n",
      " 1   Code                                         73589 non-null  object \n",
      " 2   Year                                         78373 non-null  int64  \n",
      " 3   Age-standardized suicide rate - Sex: male    3880 non-null   float64\n",
      " 4   Age-standardized suicide rate - Sex: female  3880 non-null   float64\n",
      " 5   Population                                   78165 non-null  float64\n",
      " 6   Continent                                    285 non-null    object \n",
      "dtypes: float64(3), int64(1), object(3)\n",
      "memory usage: 4.2+ MB\n"
     ]
    }
   ],
   "source": [
    "df=pd.read_csv('C://Users//Pratinav jinwal//OneDrive//Desktop//Capstone Project//Capstone project zipped data//02_who male female.csv')\n",
    "df.info()"
   ]
  },
  {
   "cell_type": "code",
   "execution_count": 170,
   "id": "a1e8a5dc-69af-4652-b85b-118468b218a4",
   "metadata": {},
   "outputs": [
    {
     "data": {
      "text/html": [
       "<div>\n",
       "<style scoped>\n",
       "    .dataframe tbody tr th:only-of-type {\n",
       "        vertical-align: middle;\n",
       "    }\n",
       "\n",
       "    .dataframe tbody tr th {\n",
       "        vertical-align: top;\n",
       "    }\n",
       "\n",
       "    .dataframe thead th {\n",
       "        text-align: right;\n",
       "    }\n",
       "</style>\n",
       "<table border=\"1\" class=\"dataframe\">\n",
       "  <thead>\n",
       "    <tr style=\"text-align: right;\">\n",
       "      <th></th>\n",
       "      <th>Entity</th>\n",
       "      <th>Code</th>\n",
       "      <th>Year</th>\n",
       "      <th>Age-standardized suicide rate - Sex: male</th>\n",
       "      <th>Age-standardized suicide rate - Sex: female</th>\n",
       "      <th>Population</th>\n",
       "      <th>Continent</th>\n",
       "    </tr>\n",
       "  </thead>\n",
       "  <tbody>\n",
       "    <tr>\n",
       "      <th>0</th>\n",
       "      <td>Abkhazia</td>\n",
       "      <td>OWID_ABK</td>\n",
       "      <td>2015</td>\n",
       "      <td>NaN</td>\n",
       "      <td>NaN</td>\n",
       "      <td>NaN</td>\n",
       "      <td>Asia</td>\n",
       "    </tr>\n",
       "    <tr>\n",
       "      <th>1</th>\n",
       "      <td>Afghanistan</td>\n",
       "      <td>AFG</td>\n",
       "      <td>2000</td>\n",
       "      <td>8</td>\n",
       "      <td>8</td>\n",
       "      <td>19542986</td>\n",
       "      <td>NaN</td>\n",
       "    </tr>\n",
       "    <tr>\n",
       "      <th>2</th>\n",
       "      <td>Afghanistan</td>\n",
       "      <td>AFG</td>\n",
       "      <td>2001</td>\n",
       "      <td>8</td>\n",
       "      <td>8</td>\n",
       "      <td>19688634</td>\n",
       "      <td>NaN</td>\n",
       "    </tr>\n",
       "    <tr>\n",
       "      <th>3</th>\n",
       "      <td>Afghanistan</td>\n",
       "      <td>AFG</td>\n",
       "      <td>2002</td>\n",
       "      <td>8</td>\n",
       "      <td>8</td>\n",
       "      <td>21000258</td>\n",
       "      <td>NaN</td>\n",
       "    </tr>\n",
       "    <tr>\n",
       "      <th>4</th>\n",
       "      <td>Afghanistan</td>\n",
       "      <td>AFG</td>\n",
       "      <td>2003</td>\n",
       "      <td>8</td>\n",
       "      <td>8</td>\n",
       "      <td>22645136</td>\n",
       "      <td>NaN</td>\n",
       "    </tr>\n",
       "  </tbody>\n",
       "</table>\n",
       "</div>"
      ],
      "text/plain": [
       "        Entity      Code  Year  Age-standardized suicide rate - Sex: male  \\\n",
       "0     Abkhazia  OWID_ABK  2015                                        NaN   \n",
       "1  Afghanistan       AFG  2000                                          8   \n",
       "2  Afghanistan       AFG  2001                                          8   \n",
       "3  Afghanistan       AFG  2002                                          8   \n",
       "4  Afghanistan       AFG  2003                                          8   \n",
       "\n",
       "   Age-standardized suicide rate - Sex: female  Population Continent  \n",
       "0                                          NaN         NaN      Asia  \n",
       "1                                            8    19542986       NaN  \n",
       "2                                            8    19688634       NaN  \n",
       "3                                            8    21000258       NaN  \n",
       "4                                            8    22645136       NaN  "
      ]
     },
     "execution_count": 170,
     "metadata": {},
     "output_type": "execute_result"
    }
   ],
   "source": [
    "df.head(5)"
   ]
  },
  {
   "cell_type": "code",
   "execution_count": 173,
   "id": "66bc9df5-588d-4fe5-b123-1ab10f1691ce",
   "metadata": {},
   "outputs": [],
   "source": [
    "df.columns = df.columns.str.strip()"
   ]
  },
  {
   "cell_type": "code",
   "execution_count": 174,
   "id": "9e599259-d5d5-48f6-8b3f-fb68fb79e452",
   "metadata": {},
   "outputs": [
    {
     "data": {
      "text/plain": [
       "(78373, 7)"
      ]
     },
     "execution_count": 174,
     "metadata": {},
     "output_type": "execute_result"
    }
   ],
   "source": [
    "df.shape"
   ]
  },
  {
   "cell_type": "code",
   "execution_count": 175,
   "id": "265b0cf6-db37-4dd9-9f4f-1b3ec3669f1e",
   "metadata": {},
   "outputs": [
    {
     "data": {
      "text/plain": [
       "Entity                                             0\n",
       "Code                                            4784\n",
       "Year                                               0\n",
       "Age-standardized suicide rate - Sex: male      74493\n",
       "Age-standardized suicide rate - Sex: female    74493\n",
       "Population                                       208\n",
       "Continent                                      78088\n",
       "dtype: int64"
      ]
     },
     "execution_count": 175,
     "metadata": {},
     "output_type": "execute_result"
    }
   ],
   "source": [
    "df.isnull().sum()"
   ]
  },
  {
   "cell_type": "code",
   "execution_count": 176,
   "id": "163feec0-549f-4335-9ea5-4ad7698da89b",
   "metadata": {},
   "outputs": [
    {
     "name": "stdout",
     "output_type": "stream",
     "text": [
      "Entity                                            0\n",
      "Code                                            200\n",
      "Year                                              0\n",
      "Age-standardized suicide rate - Sex: male         0\n",
      "Age-standardized suicide rate - Sex: female       0\n",
      "Population                                      160\n",
      "Continent                                      3697\n",
      "dtype: int64\n"
     ]
    }
   ],
   "source": [
    "# Removing the Null values from column 'Age-standardized suicide rate - Sex: male'\n",
    "\n",
    "df_cleaned = df.dropna(subset=['Age-standardized suicide rate - Sex: male'])\n",
    "print(df_cleaned.isnull().sum())"
   ]
  },
  {
   "cell_type": "code",
   "execution_count": 177,
   "id": "62b39936-81ac-45e1-82d9-445db2782434",
   "metadata": {},
   "outputs": [
    {
     "name": "stdout",
     "output_type": "stream",
     "text": [
      "[2000 2001 2002 2003 2004 2005 2006 2007 2008 2009 2010 2011 2012 2013\n",
      " 2014 2015 2016 2017 2018 2019]\n"
     ]
    }
   ],
   "source": [
    "# Reset the index \n",
    "df_cleaned.reset_index(drop=True, inplace=True)\n",
    "\n",
    "#checking the year column \n",
    "print(df_cleaned['Year'].unique())"
   ]
  },
  {
   "cell_type": "code",
   "execution_count": 178,
   "id": "2ebb0b35-04c2-40a1-9290-6db89b7413e5",
   "metadata": {},
   "outputs": [
    {
     "data": {
      "text/html": [
       "<div>\n",
       "<style scoped>\n",
       "    .dataframe tbody tr th:only-of-type {\n",
       "        vertical-align: middle;\n",
       "    }\n",
       "\n",
       "    .dataframe tbody tr th {\n",
       "        vertical-align: top;\n",
       "    }\n",
       "\n",
       "    .dataframe thead th {\n",
       "        text-align: right;\n",
       "    }\n",
       "</style>\n",
       "<table border=\"1\" class=\"dataframe\">\n",
       "  <thead>\n",
       "    <tr style=\"text-align: right;\">\n",
       "      <th></th>\n",
       "      <th>Country</th>\n",
       "      <th>Year</th>\n",
       "      <th>Age-standardized suicide rate - Sex: male</th>\n",
       "      <th>Age-standardized suicide rate - Sex: female</th>\n",
       "      <th>Population</th>\n",
       "      <th>Continent</th>\n",
       "    </tr>\n",
       "  </thead>\n",
       "  <tbody>\n",
       "    <tr>\n",
       "      <th>0</th>\n",
       "      <td>Afghanistan</td>\n",
       "      <td>2000</td>\n",
       "      <td>8</td>\n",
       "      <td>8</td>\n",
       "      <td>19542986</td>\n",
       "      <td>NaN</td>\n",
       "    </tr>\n",
       "    <tr>\n",
       "      <th>1</th>\n",
       "      <td>Afghanistan</td>\n",
       "      <td>2001</td>\n",
       "      <td>8</td>\n",
       "      <td>8</td>\n",
       "      <td>19688634</td>\n",
       "      <td>NaN</td>\n",
       "    </tr>\n",
       "    <tr>\n",
       "      <th>2</th>\n",
       "      <td>Afghanistan</td>\n",
       "      <td>2002</td>\n",
       "      <td>8</td>\n",
       "      <td>8</td>\n",
       "      <td>21000258</td>\n",
       "      <td>NaN</td>\n",
       "    </tr>\n",
       "    <tr>\n",
       "      <th>3</th>\n",
       "      <td>Afghanistan</td>\n",
       "      <td>2003</td>\n",
       "      <td>8</td>\n",
       "      <td>8</td>\n",
       "      <td>22645136</td>\n",
       "      <td>NaN</td>\n",
       "    </tr>\n",
       "    <tr>\n",
       "      <th>4</th>\n",
       "      <td>Afghanistan</td>\n",
       "      <td>2004</td>\n",
       "      <td>8</td>\n",
       "      <td>8</td>\n",
       "      <td>23553554</td>\n",
       "      <td>NaN</td>\n",
       "    </tr>\n",
       "    <tr>\n",
       "      <th>...</th>\n",
       "      <td>...</td>\n",
       "      <td>...</td>\n",
       "      <td>...</td>\n",
       "      <td>...</td>\n",
       "      <td>...</td>\n",
       "      <td>...</td>\n",
       "    </tr>\n",
       "    <tr>\n",
       "      <th>3875</th>\n",
       "      <td>Zimbabwe</td>\n",
       "      <td>2015</td>\n",
       "      <td>47</td>\n",
       "      <td>19</td>\n",
       "      <td>14154937</td>\n",
       "      <td>Africa</td>\n",
       "    </tr>\n",
       "    <tr>\n",
       "      <th>3876</th>\n",
       "      <td>Zimbabwe</td>\n",
       "      <td>2016</td>\n",
       "      <td>44</td>\n",
       "      <td>18</td>\n",
       "      <td>14452705</td>\n",
       "      <td>NaN</td>\n",
       "    </tr>\n",
       "    <tr>\n",
       "      <th>3877</th>\n",
       "      <td>Zimbabwe</td>\n",
       "      <td>2017</td>\n",
       "      <td>41</td>\n",
       "      <td>15</td>\n",
       "      <td>14751101</td>\n",
       "      <td>NaN</td>\n",
       "    </tr>\n",
       "    <tr>\n",
       "      <th>3878</th>\n",
       "      <td>Zimbabwe</td>\n",
       "      <td>2018</td>\n",
       "      <td>39</td>\n",
       "      <td>13</td>\n",
       "      <td>15052191</td>\n",
       "      <td>NaN</td>\n",
       "    </tr>\n",
       "    <tr>\n",
       "      <th>3879</th>\n",
       "      <td>Zimbabwe</td>\n",
       "      <td>2019</td>\n",
       "      <td>38</td>\n",
       "      <td>13</td>\n",
       "      <td>15354606</td>\n",
       "      <td>NaN</td>\n",
       "    </tr>\n",
       "  </tbody>\n",
       "</table>\n",
       "<p>3860 rows × 6 columns</p>\n",
       "</div>"
      ],
      "text/plain": [
       "          Country  Year  Age-standardized suicide rate - Sex: male  \\\n",
       "0     Afghanistan  2000                                          8   \n",
       "1     Afghanistan  2001                                          8   \n",
       "2     Afghanistan  2002                                          8   \n",
       "3     Afghanistan  2003                                          8   \n",
       "4     Afghanistan  2004                                          8   \n",
       "...           ...   ...                                        ...   \n",
       "3875     Zimbabwe  2015                                         47   \n",
       "3876     Zimbabwe  2016                                         44   \n",
       "3877     Zimbabwe  2017                                         41   \n",
       "3878     Zimbabwe  2018                                         39   \n",
       "3879     Zimbabwe  2019                                         38   \n",
       "\n",
       "      Age-standardized suicide rate - Sex: female  Population Continent  \n",
       "0                                               8    19542986       NaN  \n",
       "1                                               8    19688634       NaN  \n",
       "2                                               8    21000258       NaN  \n",
       "3                                               8    22645136       NaN  \n",
       "4                                               8    23553554       NaN  \n",
       "...                                           ...         ...       ...  \n",
       "3875                                           19    14154937    Africa  \n",
       "3876                                           18    14452705       NaN  \n",
       "3877                                           15    14751101       NaN  \n",
       "3878                                           13    15052191       NaN  \n",
       "3879                                           13    15354606       NaN  \n",
       "\n",
       "[3860 rows x 6 columns]"
      ]
     },
     "execution_count": 178,
     "metadata": {},
     "output_type": "execute_result"
    }
   ],
   "source": [
    "# Creating a copy of the DataFrame\n",
    "df_cleaned = df_cleaned.copy()\n",
    "\n",
    "# Renaming 'Entity' to 'Country'\n",
    "df_cleaned.rename(columns={'Entity': 'Country'}, inplace=True)\n",
    "\n",
    "# Removing 'World' from 'Country' column\n",
    "df_cleaned_v2 = df_cleaned[df_cleaned['Country'] != 'World']\n",
    "\n",
    "# Removing column code as country code.\n",
    "df_cleaned_v2= df_cleaned_v2.drop('Code', axis=1)\n",
    "\n",
    "\n",
    "df_cleaned_v2"
   ]
  },
  {
   "cell_type": "code",
   "execution_count": 179,
   "id": "ef453e83-765b-4311-b6d8-66c64bf1e963",
   "metadata": {},
   "outputs": [
    {
     "name": "stdout",
     "output_type": "stream",
     "text": [
      "           Country  Population\n",
      "36           China  1421864064\n",
      "80           India  1383112064\n",
      "182  United States   334319680\n",
      "81       Indonesia   269582880\n",
      "132       Pakistan   223293280\n"
     ]
    }
   ],
   "source": [
    "# Creating a DataFrame for the year 2019\n",
    "df_2019 = df_cleaned_v2[df_cleaned_v2['Year'] == 2019]\n",
    "\n",
    "# Group by country and sort by descending population\n",
    "grouped_df = df_2019.groupby('Country', as_index=False).agg({'Population': 'max'}).sort_values(by='Population', ascending=False)\n",
    "\n",
    "# Filter out the outliers\n",
    "grouped_df = grouped_df[~grouped_df['Country'].isin(['Africa', 'Europe','Americas','High-income','Eastern Mediterranean','Lower-middle-income','Low-income','South-East Asia','Upper-middle-income','Western Pacific'])]\n",
    "\n",
    "# Print the resulting DataFrame\n",
    "print(grouped_df.head(5))"
   ]
  },
  {
   "cell_type": "code",
   "execution_count": 180,
   "id": "ca3a74c6-d4e0-4655-b5a1-a5f3664869b9",
   "metadata": {},
   "outputs": [],
   "source": [
    "# Select top 5 countries from the dataframe\n",
    "top_5_countries = grouped_df.head(5)['Country'].tolist()"
   ]
  },
  {
   "cell_type": "code",
   "execution_count": 181,
   "id": "78584cd4-d5d9-467b-82af-db6b3f47b216",
   "metadata": {},
   "outputs": [
    {
     "name": "stdout",
     "output_type": "stream",
     "text": [
      "(100, 6)\n"
     ]
    }
   ],
   "source": [
    "# Assuming top_5_countries is a list of country names\n",
    "top_5_countries_df = pd.DataFrame({'Country': top_5_countries})\n",
    "\n",
    "# Merge df_cleaned_v2 and top_5_countries_df\n",
    "result_df = pd.merge(df_cleaned_v2, top_5_countries_df, on='Country', how='inner')\n",
    "\n",
    "# Print the resulting DataFrame\n",
    "print(result_df.shape)"
   ]
  },
  {
   "cell_type": "code",
   "execution_count": 182,
   "id": "3c7745ac-3e10-42c0-a8be-b1526bb384a2",
   "metadata": {},
   "outputs": [],
   "source": [
    "result_df.to_excel('output_file.xlsx', index=False)"
   ]
  },
  {
   "cell_type": "code",
   "execution_count": 185,
   "id": "68c3a21a-f728-4045-8971-27b9dae12819",
   "metadata": {},
   "outputs": [
    {
     "data": {
      "text/html": [
       "<div>\n",
       "<style scoped>\n",
       "    .dataframe tbody tr th:only-of-type {\n",
       "        vertical-align: middle;\n",
       "    }\n",
       "\n",
       "    .dataframe tbody tr th {\n",
       "        vertical-align: top;\n",
       "    }\n",
       "\n",
       "    .dataframe thead th {\n",
       "        text-align: right;\n",
       "    }\n",
       "</style>\n",
       "<table border=\"1\" class=\"dataframe\">\n",
       "  <thead>\n",
       "    <tr style=\"text-align: right;\">\n",
       "      <th></th>\n",
       "      <th>Country</th>\n",
       "      <th>Year</th>\n",
       "      <th>Age-standardized suicide rate - Sex: male</th>\n",
       "      <th>Age-standardized suicide rate - Sex: female</th>\n",
       "      <th>Population</th>\n",
       "      <th>Continent</th>\n",
       "    </tr>\n",
       "  </thead>\n",
       "  <tbody>\n",
       "    <tr>\n",
       "      <th>0</th>\n",
       "      <td>China</td>\n",
       "      <td>2000</td>\n",
       "      <td>15</td>\n",
       "      <td>14</td>\n",
       "      <td>1264099072</td>\n",
       "      <td>NaN</td>\n",
       "    </tr>\n",
       "    <tr>\n",
       "      <th>1</th>\n",
       "      <td>China</td>\n",
       "      <td>2001</td>\n",
       "      <td>14</td>\n",
       "      <td>13</td>\n",
       "      <td>1272739584</td>\n",
       "      <td>NaN</td>\n",
       "    </tr>\n",
       "    <tr>\n",
       "      <th>2</th>\n",
       "      <td>China</td>\n",
       "      <td>2002</td>\n",
       "      <td>14</td>\n",
       "      <td>11</td>\n",
       "      <td>1280926080</td>\n",
       "      <td>NaN</td>\n",
       "    </tr>\n",
       "    <tr>\n",
       "      <th>3</th>\n",
       "      <td>China</td>\n",
       "      <td>2003</td>\n",
       "      <td>15</td>\n",
       "      <td>12</td>\n",
       "      <td>1288873344</td>\n",
       "      <td>NaN</td>\n",
       "    </tr>\n",
       "    <tr>\n",
       "      <th>4</th>\n",
       "      <td>China</td>\n",
       "      <td>2004</td>\n",
       "      <td>15</td>\n",
       "      <td>12</td>\n",
       "      <td>1296816768</td>\n",
       "      <td>NaN</td>\n",
       "    </tr>\n",
       "    <tr>\n",
       "      <th>...</th>\n",
       "      <td>...</td>\n",
       "      <td>...</td>\n",
       "      <td>...</td>\n",
       "      <td>...</td>\n",
       "      <td>...</td>\n",
       "      <td>...</td>\n",
       "    </tr>\n",
       "    <tr>\n",
       "      <th>95</th>\n",
       "      <td>United States</td>\n",
       "      <td>2015</td>\n",
       "      <td>20</td>\n",
       "      <td>6</td>\n",
       "      <td>324607776</td>\n",
       "      <td>North America</td>\n",
       "    </tr>\n",
       "    <tr>\n",
       "      <th>96</th>\n",
       "      <td>United States</td>\n",
       "      <td>2016</td>\n",
       "      <td>21</td>\n",
       "      <td>6</td>\n",
       "      <td>327210208</td>\n",
       "      <td>NaN</td>\n",
       "    </tr>\n",
       "    <tr>\n",
       "      <th>97</th>\n",
       "      <td>United States</td>\n",
       "      <td>2017</td>\n",
       "      <td>23</td>\n",
       "      <td>6</td>\n",
       "      <td>329791232</td>\n",
       "      <td>NaN</td>\n",
       "    </tr>\n",
       "    <tr>\n",
       "      <th>98</th>\n",
       "      <td>United States</td>\n",
       "      <td>2018</td>\n",
       "      <td>22</td>\n",
       "      <td>7</td>\n",
       "      <td>332140032</td>\n",
       "      <td>NaN</td>\n",
       "    </tr>\n",
       "    <tr>\n",
       "      <th>99</th>\n",
       "      <td>United States</td>\n",
       "      <td>2019</td>\n",
       "      <td>22</td>\n",
       "      <td>7</td>\n",
       "      <td>334319680</td>\n",
       "      <td>NaN</td>\n",
       "    </tr>\n",
       "  </tbody>\n",
       "</table>\n",
       "<p>100 rows × 6 columns</p>\n",
       "</div>"
      ],
      "text/plain": [
       "          Country  Year  Age-standardized suicide rate - Sex: male  \\\n",
       "0           China  2000                                         15   \n",
       "1           China  2001                                         14   \n",
       "2           China  2002                                         14   \n",
       "3           China  2003                                         15   \n",
       "4           China  2004                                         15   \n",
       "..            ...   ...                                        ...   \n",
       "95  United States  2015                                         20   \n",
       "96  United States  2016                                         21   \n",
       "97  United States  2017                                         23   \n",
       "98  United States  2018                                         22   \n",
       "99  United States  2019                                         22   \n",
       "\n",
       "    Age-standardized suicide rate - Sex: female  Population      Continent  \n",
       "0                                            14  1264099072            NaN  \n",
       "1                                            13  1272739584            NaN  \n",
       "2                                            11  1280926080            NaN  \n",
       "3                                            12  1288873344            NaN  \n",
       "4                                            12  1296816768            NaN  \n",
       "..                                          ...         ...            ...  \n",
       "95                                            6   324607776  North America  \n",
       "96                                            6   327210208            NaN  \n",
       "97                                            6   329791232            NaN  \n",
       "98                                            7   332140032            NaN  \n",
       "99                                            7   334319680            NaN  \n",
       "\n",
       "[100 rows x 6 columns]"
      ]
     },
     "execution_count": 185,
     "metadata": {},
     "output_type": "execute_result"
    }
   ],
   "source": [
    "result_df"
   ]
  },
  {
   "cell_type": "code",
   "execution_count": 195,
   "id": "69e19b67-31b5-44f0-80a8-18aba941c21c",
   "metadata": {},
   "outputs": [
    {
     "data": {
      "image/png": "[encoded data removed]",
      "text/plain": [
       "<Figure size 1200x600 with 1 Axes>"
      ]
     },
     "metadata": {},
     "output_type": "display_data"
    }
   ],
   "source": [
    "# Calculate the average suicide rates by grouping by 'Country'\n",
    "average_suicide_rates = result_df.groupby('Country').agg({\n",
    "    'Age-standardized suicide rate - Sex: male': 'mean',\n",
    "    'Age-standardized suicide rate - Sex: female': 'mean'\n",
    "}).reset_index()\n",
    "\n",
    "# Melt the DataFrame to make it suitable for plotting\n",
    "final_df = pd.melt(average_suicide_rates, id_vars='Country', var_name='Sex', value_name='Average Suicide Rate')\n",
    "\n",
    "# Create a barplot using seaborn\n",
    "plt.figure(figsize=(12, 6))\n",
    "sns.barplot(x='Country', y='Average Suicide Rate', hue='Sex', data=final_df)\n",
    "plt.title('Average Suicide Rates by Country and Gender')\n",
    "plt.xticks(rotation=45, ha='right')\n",
    "plt.show()"
   ]
  },
  {
   "cell_type": "code",
   "execution_count": null,
   "id": "c1d396d0-3d4a-42cc-b03a-13c5b74a9853",
   "metadata": {},
   "outputs": [],
   "source": []
  }
 ],
 "metadata": {
  "kernelspec": {
   "display_name": "Python 3 (ipykernel)",
   "language": "python",
   "name": "python3"
  },
  "language_info": {
   "codemirror_mode": {
    "name": "ipython",
    "version": 3
   },
   "file_extension": ".py",
   "mimetype": "text/x-python",
   "name": "python",
   "nbconvert_exporter": "python",
   "pygments_lexer": "ipython3",
   "version": "3.10.9"
  }
 },
 "nbformat": 4,
 "nbformat_minor": 5
}
